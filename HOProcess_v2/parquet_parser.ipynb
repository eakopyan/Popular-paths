{
 "cells": [
  {
   "cell_type": "code",
   "execution_count": 38,
   "metadata": {},
   "outputs": [],
   "source": [
    "import pandas as pd\n",
    "import matplotlib.pyplot as plt\n",
    "import numpy as np\n",
    "# for requirements: install fastparquet \n",
    "\n",
    "import glob # not needed in requirements\n",
    "import os # not needed in requirements"
   ]
  },
  {
   "cell_type": "code",
   "execution_count": 3,
   "metadata": {},
   "outputs": [],
   "source": [
    "PATH_TOPO = '..\\\\..\\\\Data_Handover\\\\TOPO\\\\Lyon\\\\part-00000-2f038a97-7faf-46f3-aee2-b73b52bf2cba.snappy.parquet'"
   ]
  },
  {
   "cell_type": "code",
   "execution_count": 4,
   "metadata": {},
   "outputs": [
    {
     "data": {
      "text/html": [
       "<div>\n",
       "<style scoped>\n",
       "    .dataframe tbody tr th:only-of-type {\n",
       "        vertical-align: middle;\n",
       "    }\n",
       "\n",
       "    .dataframe tbody tr th {\n",
       "        vertical-align: top;\n",
       "    }\n",
       "\n",
       "    .dataframe thead th {\n",
       "        text-align: right;\n",
       "    }\n",
       "</style>\n",
       "<table border=\"1\" class=\"dataframe\">\n",
       "  <thead>\n",
       "    <tr style=\"text-align: right;\">\n",
       "      <th></th>\n",
       "      <th>LocInfo</th>\n",
       "      <th>TECHNO</th>\n",
       "      <th>LON</th>\n",
       "      <th>LAT</th>\n",
       "    </tr>\n",
       "  </thead>\n",
       "  <tbody>\n",
       "    <tr>\n",
       "      <th>0</th>\n",
       "      <td>8102f8100000ba1a</td>\n",
       "      <td>4G</td>\n",
       "      <td>4.805831</td>\n",
       "      <td>45.881115</td>\n",
       "    </tr>\n",
       "    <tr>\n",
       "      <th>1</th>\n",
       "      <td>8102f8100000ae6f</td>\n",
       "      <td>4G</td>\n",
       "      <td>5.103326</td>\n",
       "      <td>45.661649</td>\n",
       "    </tr>\n",
       "    <tr>\n",
       "      <th>2</th>\n",
       "      <td>8102f8100000b9fc</td>\n",
       "      <td>4G</td>\n",
       "      <td>5.006670</td>\n",
       "      <td>45.770836</td>\n",
       "    </tr>\n",
       "    <tr>\n",
       "      <th>3</th>\n",
       "      <td>8102f8100000999d</td>\n",
       "      <td>4G</td>\n",
       "      <td>4.888138</td>\n",
       "      <td>45.738378</td>\n",
       "    </tr>\n",
       "    <tr>\n",
       "      <th>4</th>\n",
       "      <td>8102f81000009baf</td>\n",
       "      <td>4G</td>\n",
       "      <td>4.889202</td>\n",
       "      <td>45.744970</td>\n",
       "    </tr>\n",
       "    <tr>\n",
       "      <th>...</th>\n",
       "      <td>...</td>\n",
       "      <td>...</td>\n",
       "      <td>...</td>\n",
       "      <td>...</td>\n",
       "    </tr>\n",
       "    <tr>\n",
       "      <th>9324</th>\n",
       "      <td>0102f810041ec940</td>\n",
       "      <td>3G</td>\n",
       "      <td>4.695403</td>\n",
       "      <td>45.642543</td>\n",
       "    </tr>\n",
       "    <tr>\n",
       "      <th>9325</th>\n",
       "      <td>0002f8100705368e</td>\n",
       "      <td>2G</td>\n",
       "      <td>4.849999</td>\n",
       "      <td>45.753893</td>\n",
       "    </tr>\n",
       "    <tr>\n",
       "      <th>9326</th>\n",
       "      <td>0002f810511084f7</td>\n",
       "      <td>2G</td>\n",
       "      <td>4.768475</td>\n",
       "      <td>45.784375</td>\n",
       "    </tr>\n",
       "    <tr>\n",
       "      <th>9327</th>\n",
       "      <td>0102f810041e6337</td>\n",
       "      <td>3G</td>\n",
       "      <td>4.865802</td>\n",
       "      <td>45.673625</td>\n",
       "    </tr>\n",
       "    <tr>\n",
       "      <th>9328</th>\n",
       "      <td>0002f810070436f7</td>\n",
       "      <td>2G</td>\n",
       "      <td>4.879442</td>\n",
       "      <td>45.786112</td>\n",
       "    </tr>\n",
       "  </tbody>\n",
       "</table>\n",
       "<p>9329 rows × 4 columns</p>\n",
       "</div>"
      ],
      "text/plain": [
       "               LocInfo TECHNO       LON        LAT\n",
       "0     8102f8100000ba1a     4G  4.805831  45.881115\n",
       "1     8102f8100000ae6f     4G  5.103326  45.661649\n",
       "2     8102f8100000b9fc     4G  5.006670  45.770836\n",
       "3     8102f8100000999d     4G  4.888138  45.738378\n",
       "4     8102f81000009baf     4G  4.889202  45.744970\n",
       "...                ...    ...       ...        ...\n",
       "9324  0102f810041ec940     3G  4.695403  45.642543\n",
       "9325  0002f8100705368e     2G  4.849999  45.753893\n",
       "9326  0002f810511084f7     2G  4.768475  45.784375\n",
       "9327  0102f810041e6337     3G  4.865802  45.673625\n",
       "9328  0002f810070436f7     2G  4.879442  45.786112\n",
       "\n",
       "[9329 rows x 4 columns]"
      ]
     },
     "execution_count": 4,
     "metadata": {},
     "output_type": "execute_result"
    }
   ],
   "source": [
    "enb_df = pd.read_parquet(PATH_TOPO, engine='fastparquet')\n",
    "enb_df"
   ]
  },
  {
   "cell_type": "code",
   "execution_count": 39,
   "metadata": {},
   "outputs": [
    {
     "data": {
      "text/plain": [
       "array([16, 17, 18, 19, 20, 21, 22])"
      ]
     },
     "execution_count": 39,
     "metadata": {},
     "output_type": "execute_result"
    }
   ],
   "source": [
    "np.arange(16, 23, 1)"
   ]
  },
  {
   "cell_type": "code",
   "execution_count": 9,
   "metadata": {},
   "outputs": [
    {
     "data": {
      "text/html": [
       "<div>\n",
       "<style scoped>\n",
       "    .dataframe tbody tr th:only-of-type {\n",
       "        vertical-align: middle;\n",
       "    }\n",
       "\n",
       "    .dataframe tbody tr th {\n",
       "        vertical-align: top;\n",
       "    }\n",
       "\n",
       "    .dataframe thead th {\n",
       "        text-align: right;\n",
       "    }\n",
       "</style>\n",
       "<table border=\"1\" class=\"dataframe\">\n",
       "  <thead>\n",
       "    <tr style=\"text-align: right;\">\n",
       "      <th></th>\n",
       "      <th>timeSlot</th>\n",
       "      <th>srcLocInfo</th>\n",
       "      <th>dstLocInfo</th>\n",
       "      <th>nbHO15</th>\n",
       "    </tr>\n",
       "  </thead>\n",
       "  <tbody>\n",
       "    <tr>\n",
       "      <th>0</th>\n",
       "      <td>1552734000</td>\n",
       "      <td>8102f81000009986</td>\n",
       "      <td>8102f81000009991</td>\n",
       "      <td>171</td>\n",
       "    </tr>\n",
       "    <tr>\n",
       "      <th>1</th>\n",
       "      <td>1552753800</td>\n",
       "      <td>8102f810000099d1</td>\n",
       "      <td>8102f810000099ae</td>\n",
       "      <td>1508</td>\n",
       "    </tr>\n",
       "    <tr>\n",
       "      <th>2</th>\n",
       "      <td>1552757400</td>\n",
       "      <td>8102f8100000a481</td>\n",
       "      <td>8102f81000009c31</td>\n",
       "      <td>814</td>\n",
       "    </tr>\n",
       "    <tr>\n",
       "      <th>3</th>\n",
       "      <td>1552753800</td>\n",
       "      <td>8102f81000009de8</td>\n",
       "      <td>8102f81000009d5e</td>\n",
       "      <td>277</td>\n",
       "    </tr>\n",
       "    <tr>\n",
       "      <th>4</th>\n",
       "      <td>1552732200</td>\n",
       "      <td>8102f81000009952</td>\n",
       "      <td>8102f81000009975</td>\n",
       "      <td>1198</td>\n",
       "    </tr>\n",
       "    <tr>\n",
       "      <th>...</th>\n",
       "      <td>...</td>\n",
       "      <td>...</td>\n",
       "      <td>...</td>\n",
       "      <td>...</td>\n",
       "    </tr>\n",
       "    <tr>\n",
       "      <th>719641</th>\n",
       "      <td>1552759200</td>\n",
       "      <td>0002f8100704edda</td>\n",
       "      <td>0002f8100704512d</td>\n",
       "      <td>0</td>\n",
       "    </tr>\n",
       "    <tr>\n",
       "      <th>719642</th>\n",
       "      <td>1552759200</td>\n",
       "      <td>0002f81051100807</td>\n",
       "      <td>0002f81051053587</td>\n",
       "      <td>0</td>\n",
       "    </tr>\n",
       "    <tr>\n",
       "      <th>719643</th>\n",
       "      <td>1552746600</td>\n",
       "      <td>8102f8100000ba74</td>\n",
       "      <td>8102f8100000ba60</td>\n",
       "      <td>0</td>\n",
       "    </tr>\n",
       "    <tr>\n",
       "      <th>719644</th>\n",
       "      <td>1552770000</td>\n",
       "      <td>8102f810000099c9</td>\n",
       "      <td>8102f8100000babc</td>\n",
       "      <td>0</td>\n",
       "    </tr>\n",
       "    <tr>\n",
       "      <th>719645</th>\n",
       "      <td>1552734000</td>\n",
       "      <td>0002f81051109a04</td>\n",
       "      <td>0002f81051108452</td>\n",
       "      <td>0</td>\n",
       "    </tr>\n",
       "  </tbody>\n",
       "</table>\n",
       "<p>719646 rows × 4 columns</p>\n",
       "</div>"
      ],
      "text/plain": [
       "          timeSlot        srcLocInfo        dstLocInfo  nbHO15\n",
       "0       1552734000  8102f81000009986  8102f81000009991     171\n",
       "1       1552753800  8102f810000099d1  8102f810000099ae    1508\n",
       "2       1552757400  8102f8100000a481  8102f81000009c31     814\n",
       "3       1552753800  8102f81000009de8  8102f81000009d5e     277\n",
       "4       1552732200  8102f81000009952  8102f81000009975    1198\n",
       "...            ...               ...               ...     ...\n",
       "719641  1552759200  0002f8100704edda  0002f8100704512d       0\n",
       "719642  1552759200  0002f81051100807  0002f81051053587       0\n",
       "719643  1552746600  8102f8100000ba74  8102f8100000ba60       0\n",
       "719644  1552770000  8102f810000099c9  8102f8100000babc       0\n",
       "719645  1552734000  0002f81051109a04  0002f81051108452       0\n",
       "\n",
       "[719646 rows x 4 columns]"
      ]
     },
     "execution_count": 9,
     "metadata": {},
     "output_type": "execute_result"
    }
   ],
   "source": [
    "PATH_HO = '..\\\\..\\\\Data_Handover\\\\usersHandovers\\\\2019\\\\03\\\\16\\\\Lyon_HO_IN'\n",
    "\n",
    "all_files = glob.glob(PATH_HO + \"\\\\*.parquet\")\n",
    "\n",
    "li = []\n",
    "\n",
    "for filename in all_files:\n",
    "    df = pd.read_parquet(filename, engine='fastparquet')\n",
    "    li.append(df)\n",
    "\n",
    "frame = pd.concat(li, axis=0, ignore_index=True)\n",
    "frame"
   ]
  },
  {
   "cell_type": "code",
   "execution_count": 11,
   "metadata": {},
   "outputs": [
    {
     "data": {
      "text/plain": [
       "Index(['timeSlot', 'srcLocInfo', 'dstLocInfo', 'nbHO15'], dtype='object')"
      ]
     },
     "execution_count": 11,
     "metadata": {},
     "output_type": "execute_result"
    }
   ],
   "source": [
    "frame.columns"
   ]
  },
  {
   "cell_type": "code",
   "execution_count": 34,
   "metadata": {},
   "outputs": [],
   "source": [
    "agg = frame.groupby(['srcLocInfo', 'dstLocInfo'])['nbHO15'].sum()\n",
    "df_agg = pd.DataFrame(agg)\n",
    "df_agg = df_agg[df_agg['nbHO15'] >0] \n",
    "#agg = agg.drop(agg.loc[agg.values==0].index)\n",
    "#agg"
   ]
  },
  {
   "cell_type": "code",
   "execution_count": 35,
   "metadata": {},
   "outputs": [],
   "source": [
    "df_agg.to_parquet(path='HO_AGG.snappy.parquet', engine='fastparquet', compression='snappy')"
   ]
  },
  {
   "cell_type": "code",
   "execution_count": 36,
   "metadata": {},
   "outputs": [
    {
     "data": {
      "text/html": [
       "<div>\n",
       "<style scoped>\n",
       "    .dataframe tbody tr th:only-of-type {\n",
       "        vertical-align: middle;\n",
       "    }\n",
       "\n",
       "    .dataframe tbody tr th {\n",
       "        vertical-align: top;\n",
       "    }\n",
       "\n",
       "    .dataframe thead th {\n",
       "        text-align: right;\n",
       "    }\n",
       "</style>\n",
       "<table border=\"1\" class=\"dataframe\">\n",
       "  <thead>\n",
       "    <tr style=\"text-align: right;\">\n",
       "      <th></th>\n",
       "      <th></th>\n",
       "      <th>nbHO15</th>\n",
       "    </tr>\n",
       "    <tr>\n",
       "      <th>srcLocInfo</th>\n",
       "      <th>dstLocInfo</th>\n",
       "      <th></th>\n",
       "    </tr>\n",
       "  </thead>\n",
       "  <tbody>\n",
       "    <tr>\n",
       "      <th>0002f81000686160</th>\n",
       "      <th>0002f81007013bfa</th>\n",
       "      <td>26</td>\n",
       "    </tr>\n",
       "    <tr>\n",
       "      <th>0002f810041c2388</th>\n",
       "      <th>0002f81007041283</th>\n",
       "      <td>16</td>\n",
       "    </tr>\n",
       "    <tr>\n",
       "      <th>0002f81007011463</th>\n",
       "      <th>0002f8100701fe3f</th>\n",
       "      <td>31</td>\n",
       "    </tr>\n",
       "    <tr>\n",
       "      <th>0002f81007011465</th>\n",
       "      <th>0002f810070126d7</th>\n",
       "      <td>17</td>\n",
       "    </tr>\n",
       "    <tr>\n",
       "      <th>0002f810070114de</th>\n",
       "      <th>0002f81007013336</th>\n",
       "      <td>1240</td>\n",
       "    </tr>\n",
       "    <tr>\n",
       "      <th>...</th>\n",
       "      <th>...</th>\n",
       "      <td>...</td>\n",
       "    </tr>\n",
       "    <tr>\n",
       "      <th rowspan=\"5\" valign=\"top\">8102f8100000bad0</th>\n",
       "      <th>8102f8100000a1fa</th>\n",
       "      <td>515</td>\n",
       "    </tr>\n",
       "    <tr>\n",
       "      <th>8102f8100000a4d9</th>\n",
       "      <td>57</td>\n",
       "    </tr>\n",
       "    <tr>\n",
       "      <th>8102f8100000b9cc</th>\n",
       "      <td>5924</td>\n",
       "    </tr>\n",
       "    <tr>\n",
       "      <th>8102f8100000ba30</th>\n",
       "      <td>189</td>\n",
       "    </tr>\n",
       "    <tr>\n",
       "      <th>8102f8100000babe</th>\n",
       "      <td>184</td>\n",
       "    </tr>\n",
       "  </tbody>\n",
       "</table>\n",
       "<p>11700 rows × 1 columns</p>\n",
       "</div>"
      ],
      "text/plain": [
       "                                   nbHO15\n",
       "srcLocInfo       dstLocInfo              \n",
       "0002f81000686160 0002f81007013bfa      26\n",
       "0002f810041c2388 0002f81007041283      16\n",
       "0002f81007011463 0002f8100701fe3f      31\n",
       "0002f81007011465 0002f810070126d7      17\n",
       "0002f810070114de 0002f81007013336    1240\n",
       "...                                   ...\n",
       "8102f8100000bad0 8102f8100000a1fa     515\n",
       "                 8102f8100000a4d9      57\n",
       "                 8102f8100000b9cc    5924\n",
       "                 8102f8100000ba30     189\n",
       "                 8102f8100000babe     184\n",
       "\n",
       "[11700 rows x 1 columns]"
      ]
     },
     "execution_count": 36,
     "metadata": {},
     "output_type": "execute_result"
    }
   ],
   "source": [
    "pd.read_parquet(path='HO_AGG.snappy.parquet', engine='fastparquet')"
   ]
  },
  {
   "cell_type": "code",
   "execution_count": 27,
   "metadata": {},
   "outputs": [
    {
     "data": {
      "text/plain": [
       "(array([4.5424e+04, 8.7300e+02, 3.4500e+02, 2.2400e+02, 1.3600e+02,\n",
       "        6.6000e+01, 4.0000e+01, 3.6000e+01, 2.0000e+01, 1.1000e+01,\n",
       "        8.0000e+00, 4.0000e+00, 3.0000e+00, 4.0000e+00, 4.0000e+00,\n",
       "        1.0000e+00, 1.0000e+00, 1.0000e+00, 0.0000e+00, 1.0000e+00,\n",
       "        1.0000e+00, 0.0000e+00, 0.0000e+00, 0.0000e+00, 0.0000e+00,\n",
       "        0.0000e+00, 0.0000e+00, 0.0000e+00, 0.0000e+00, 0.0000e+00,\n",
       "        0.0000e+00, 0.0000e+00, 0.0000e+00, 1.0000e+00, 1.0000e+00,\n",
       "        0.0000e+00, 0.0000e+00, 0.0000e+00, 0.0000e+00, 0.0000e+00,\n",
       "        0.0000e+00, 0.0000e+00, 0.0000e+00, 0.0000e+00, 0.0000e+00,\n",
       "        0.0000e+00, 1.0000e+00, 1.0000e+00, 0.0000e+00, 2.0000e+00]),\n",
       " array([     0.  ,   4723.98,   9447.96,  14171.94,  18895.92,  23619.9 ,\n",
       "         28343.88,  33067.86,  37791.84,  42515.82,  47239.8 ,  51963.78,\n",
       "         56687.76,  61411.74,  66135.72,  70859.7 ,  75583.68,  80307.66,\n",
       "         85031.64,  89755.62,  94479.6 ,  99203.58, 103927.56, 108651.54,\n",
       "        113375.52, 118099.5 , 122823.48, 127547.46, 132271.44, 136995.42,\n",
       "        141719.4 , 146443.38, 151167.36, 155891.34, 160615.32, 165339.3 ,\n",
       "        170063.28, 174787.26, 179511.24, 184235.22, 188959.2 , 193683.18,\n",
       "        198407.16, 203131.14, 207855.12, 212579.1 , 217303.08, 222027.06,\n",
       "        226751.04, 231475.02, 236199.  ]),\n",
       " <BarContainer object of 50 artists>)"
      ]
     },
     "execution_count": 27,
     "metadata": {},
     "output_type": "execute_result"
    },
    {
     "data": {
      "image/png": "[encoded data removed]",
      "text/plain": [
       "<Figure size 640x480 with 1 Axes>"
      ]
     },
     "metadata": {},
     "output_type": "display_data"
    }
   ],
   "source": [
    "plt.hist(agg, bins=50)"
   ]
  },
  {
   "cell_type": "code",
   "execution_count": 6,
   "metadata": {},
   "outputs": [
    {
     "data": {
      "text/html": [
       "<div>\n",
       "<style scoped>\n",
       "    .dataframe tbody tr th:only-of-type {\n",
       "        vertical-align: middle;\n",
       "    }\n",
       "\n",
       "    .dataframe tbody tr th {\n",
       "        vertical-align: top;\n",
       "    }\n",
       "\n",
       "    .dataframe thead th {\n",
       "        text-align: right;\n",
       "    }\n",
       "</style>\n",
       "<table border=\"1\" class=\"dataframe\">\n",
       "  <thead>\n",
       "    <tr style=\"text-align: right;\">\n",
       "      <th></th>\n",
       "      <th>LocInfo</th>\n",
       "      <th>TECHNO</th>\n",
       "      <th>LON</th>\n",
       "      <th>LAT</th>\n",
       "    </tr>\n",
       "  </thead>\n",
       "  <tbody>\n",
       "    <tr>\n",
       "      <th>106</th>\n",
       "      <td>8102f81000009986</td>\n",
       "      <td>4G</td>\n",
       "      <td>4.876117</td>\n",
       "      <td>45.730001</td>\n",
       "    </tr>\n",
       "  </tbody>\n",
       "</table>\n",
       "</div>"
      ],
      "text/plain": [
       "              LocInfo TECHNO       LON        LAT\n",
       "106  8102f81000009986     4G  4.876117  45.730001"
      ]
     },
     "execution_count": 6,
     "metadata": {},
     "output_type": "execute_result"
    }
   ],
   "source": [
    "src = '8102f81000009986'\n",
    "\n",
    "enb_df[enb_df['LocInfo']==src] "
   ]
  }
 ],
 "metadata": {
  "kernelspec": {
   "display_name": ".venv",
   "language": "python",
   "name": "python3"
  },
  "language_info": {
   "codemirror_mode": {
    "name": "ipython",
    "version": 3
   },
   "file_extension": ".py",
   "mimetype": "text/x-python",
   "name": "python",
   "nbconvert_exporter": "python",
   "pygments_lexer": "ipython3",
   "version": "3.9.0"
  }
 },
 "nbformat": 4,
 "nbformat_minor": 2
}
